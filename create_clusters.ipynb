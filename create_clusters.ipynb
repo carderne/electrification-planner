{
 "cells": [
  {
   "cell_type": "markdown",
   "metadata": {},
   "source": [
    "# Create_Clusters"
   ]
  },
  {
   "cell_type": "code",
   "execution_count": null,
   "metadata": {},
   "outputs": [],
   "source": [
    "import rasterio\n",
    "from rasterio.mask import mask\n",
    "from rasterio.features import shapes, rasterize\n",
    "from rasterstats import zonal_stats\n",
    "import geopandas as gpd\n",
    "import json\n",
    "from pathlib import Path\n",
    "\n",
    "from rasterio.plot import show\n",
    "import numpy as np\n",
    "from scipy import ndimage\n",
    "import time\n",
    "\n",
    "start_time = time.time()"
   ]
  },
  {
   "cell_type": "markdown",
   "metadata": {},
   "source": [
    "# 1. Download\n",
    "\n",
    "GHS layer https://ghsl.jrc.ec.europa.eu/data.php\n",
    "admin GADM\n",
    "grid from Alex"
   ]
  },
  {
   "cell_type": "code",
   "execution_count": null,
   "metadata": {},
   "outputs": [],
   "source": [
    "# Input GHS (global) GeoTiff, output clipped and shapefile to use for clipping\n",
    "folder_input = Path('/home/chris/Documents/GIS')\n",
    "ghs_in = folder_input / 'GHS-POP/GHS_POP_GPW42015_GLOBE_R2015A_54009_250_v1_0.tif'\n",
    "\n",
    "clip_boundary = folder_input / 'gadm_uganda.gpkg'\n",
    "clip_boundary_layer = 'gadm36_UGA_0'\n",
    "\n",
    "grid_in = folder_input / 'uganda_grid.gpkg'"
   ]
  },
  {
   "cell_type": "markdown",
   "metadata": {},
   "source": [
    "# 2. Clip\n",
    "\n",
    "https://automating-gis-processes.github.io/CSC18/lessons/L6/clipping-raster.html"
   ]
  },
  {
   "cell_type": "code",
   "execution_count": null,
   "metadata": {},
   "outputs": [],
   "source": [
    "ghs = rasterio.open(str(ghs_in))\n",
    "\n",
    "# open shapefile and convert to string of points for clipping bounds\n",
    "adm = gpd.read_file(str(clip_boundary), layer=clip_boundary_layer, driver='GPKG')\n",
    "adm = adm.to_crs(crs=ghs.crs)\n",
    "coords = [json.loads(adm.to_json())['features'][0]['geometry']]\n",
    "\n",
    "# mask/clip the raster using rasterio.mask\n",
    "ghs_clipped, ghs_clipped_transform = mask(dataset=ghs, shapes=coords, crop=True)"
   ]
  },
  {
   "cell_type": "markdown",
   "metadata": {},
   "source": [
    "# 3. Vectorize\n",
    "\n",
    "https://gis.stackexchange.com/questions/187877/how-to-polygonize-raster-to-shapely-polygons"
   ]
  },
  {
   "cell_type": "code",
   "execution_count": null,
   "metadata": {},
   "outputs": [],
   "source": [
    "ghs_geoms = list(({'properties': {'raster_val': v}, 'geometry': s} \n",
    "              for i, (s, v)\n",
    "              in enumerate(shapes(ghs_clipped, mask=None, transform=ghs_clipped_transform))))\n",
    "\n",
    "ghs_poly = gpd.GeoDataFrame.from_features(ghs_geoms)\n",
    "ghs_poly.crs = ghs.crs.data"
   ]
  },
  {
   "cell_type": "markdown",
   "metadata": {},
   "source": [
    "# 4. Filter on population and size, buffer and dissolve"
   ]
  },
  {
   "cell_type": "code",
   "execution_count": null,
   "metadata": {},
   "outputs": [],
   "source": [
    "max_block_size_multi = 5  # remove blocks bigger than x times average\n",
    "min_block_pop = 50\n",
    "buffer_amount = 150\n",
    "\n",
    "# filter to ignore blocks with basically no people\n",
    "ghs_poly['area_m2'] = ghs_poly.geometry.area\n",
    "ghs_poly = ghs_poly[ghs_poly['area_m2'] < ghs_poly['area_m2'].mean() * max_block_size_multi] # remove blocks that are too big (basically artifacts)\n",
    "ghs_poly = ghs_poly[ghs_poly['raster_val'] > min_block_pop] # remove blocks with 30 or less people\n",
    "\n",
    "# buffer outwards so that nearby blocks will overlap\n",
    "ghs_poly['geometry'] = ghs_poly.geometry.buffer(buffer_amount)\n",
    "\n",
    "# and dissolve the thousands of blocks into a single shapefile (with no attributes!)\n",
    "ghs_poly['same'] = 1\n",
    "ghs_poly = ghs_poly.dissolve(by='same')"
   ]
  },
  {
   "cell_type": "markdown",
   "metadata": {},
   "source": [
    "# 7. To singleparts\n",
    "\n",
    "https://gis.stackexchange.com/a/271735"
   ]
  },
  {
   "cell_type": "code",
   "execution_count": null,
   "metadata": {},
   "outputs": [],
   "source": [
    "# To get our attributes, we convert the dissolves polygon into singleparts\n",
    "# This means each contiguous bubble becomes its own polygon and can store its own attributes\n",
    "\n",
    "ghs_poly = ghs_poly.explode()\n",
    "ghs_poly = ghs_poly.reset_index()\n",
    "ghs_poly['geometry'] = ghs_poly[0]\n",
    "ghs_poly = ghs_poly.drop(columns=['level_0', 'level_1', 0]) # shapefile doesn't like integer column name\n",
    "ghs_poly = gpd.GeoDataFrame(ghs_poly)\n",
    "ghs_poly.crs = ghs.crs.data"
   ]
  },
  {
   "cell_type": "markdown",
   "metadata": {},
   "source": [
    "# 8. Raster zonal statistics\n",
    "\n",
    "https://automating-gis-processes.github.io/CSC18/lessons/L6/zonal-statistics.html"
   ]
  },
  {
   "cell_type": "code",
   "execution_count": null,
   "metadata": {
    "scrolled": false
   },
   "outputs": [],
   "source": [
    "# But we still need to get the population data back, so we join it with the original raster data\n",
    "# We take the sum of all population that lies underneath the polygon\n",
    "pop_sums = zonal_stats(ghs_poly, ghs_in, stats='sum')\n",
    "ghs_poly['pop_sum'] = [x['sum'] for x in pop_sums]\n",
    "\n",
    "# And then add the polygon's area back to its attributes\n",
    "ghs_poly[\"area_m2\"] = ghs_poly['geometry'].area"
   ]
  },
  {
   "cell_type": "markdown",
   "metadata": {},
   "source": [
    "# 9. Get grid distances from raster"
   ]
  },
  {
   "cell_type": "code",
   "execution_count": null,
   "metadata": {},
   "outputs": [],
   "source": [
    "# read in the relevant MV grid lines file\n",
    "grid = gpd.read_file(grid_in)\n",
    "grid = grid.to_crs(crs=ghs_poly.crs)\n",
    "\n",
    "grid_raster = rasterize(grid.geometry, out_shape=ghs_clipped[0].shape, fill=1,\n",
    "                        default_value=0, all_touched=True, transform=ghs_clipped_transform)\n",
    "dist_raster = ndimage.distance_transform_edt(grid_raster) * 0.25\n",
    "\n",
    "dists = zonal_stats(vectors=ghs_poly, raster=dist_raster, affine=ghs_clipped_transform, stats='min', nodata=1000)\n",
    "ghs_poly['grid_dist'] = [x['min'] for x in dists]"
   ]
  },
  {
   "cell_type": "markdown",
   "metadata": {},
   "source": [
    "# 11. Save output files"
   ]
  },
  {
   "cell_type": "code",
   "execution_count": null,
   "metadata": {},
   "outputs": [],
   "source": [
    "ghs_poly = ghs_poly.to_crs(epsg=4326)\n",
    "ghs_poly.to_file('clusters_processed.gpkg', driver='GPKG')\n",
    "\n",
    "print(time.time() - start_time)"
   ]
  }
 ],
 "metadata": {
  "kernelspec": {
   "display_name": "Python 3",
   "language": "python",
   "name": "python3"
  },
  "language_info": {
   "codemirror_mode": {
    "name": "ipython",
    "version": 3
   },
   "file_extension": ".py",
   "mimetype": "text/x-python",
   "name": "python",
   "nbconvert_exporter": "python",
   "pygments_lexer": "ipython3",
   "version": "3.6.4"
  }
 },
 "nbformat": 4,
 "nbformat_minor": 2
}
