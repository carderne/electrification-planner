{
 "cells": [
  {
   "cell_type": "markdown",
   "metadata": {},
   "source": [
    "# Create_Clusters"
   ]
  },
  {
   "cell_type": "code",
   "execution_count": null,
   "metadata": {},
   "outputs": [],
   "source": [
    "import rasterio\n",
    "from rasterio.mask import mask\n",
    "from rasterio.features import shapes\n",
    "from rasterstats import zonal_stats\n",
    "import geopandas as gpd\n",
    "import json"
   ]
  },
  {
   "cell_type": "markdown",
   "metadata": {},
   "source": [
    "# 1. Download\n",
    "\n",
    "GHS layer https://ghsl.jrc.ec.europa.eu/data.php\n",
    "admin GADM\n",
    "grid from Alex"
   ]
  },
  {
   "cell_type": "code",
   "execution_count": null,
   "metadata": {},
   "outputs": [],
   "source": [
    "# Input GHS (global) GeoTiff, output clipped and shapefile to use for clipping\n",
    "ghs_in = 'GHS_POP_250/GHS_POP_GPW42015_GLOBE_R2015A_54009_250_v1_0.tif'\n",
    "ghs_clip = 'GHS_clipped.tif'\n",
    "clip_boundary = 'gadm_mwi.shp'\n",
    "grid_in = 'malawi_mv.shp'"
   ]
  },
  {
   "cell_type": "markdown",
   "metadata": {},
   "source": [
    "# 2. Clip\n",
    "\n",
    "https://automating-gis-processes.github.io/CSC18/lessons/L6/clipping-raster.html"
   ]
  },
  {
   "cell_type": "code",
   "execution_count": null,
   "metadata": {},
   "outputs": [],
   "source": [
    "ghs = rasterio.open(ghs_in)"
   ]
  },
  {
   "cell_type": "code",
   "execution_count": null,
   "metadata": {},
   "outputs": [],
   "source": [
    "# open shapefile and convert to string of points for clipping bounds\n",
    "adm = gpd.read_file(clip_boundary)\n",
    "adm = adm.to_crs(crs=ghs.crs)\n",
    "coords = [json.loads(adm.to_json())['features'][0]['geometry']]"
   ]
  },
  {
   "cell_type": "code",
   "execution_count": null,
   "metadata": {},
   "outputs": [],
   "source": [
    "# mask/clip the raster using rasterio.mask\n",
    "out_img, out_transform = mask(dataset=ghs, shapes=coords, crop=True)"
   ]
  },
  {
   "cell_type": "code",
   "execution_count": null,
   "metadata": {},
   "outputs": [],
   "source": [
    "# save the clipped raster with the correct metadata\n",
    "out_meta = ghs.meta.copy()\n",
    "out_meta.update({\"driver\": \"GTiff\",\n",
    "                 \"height\": out_img.shape[1],\n",
    "                 \"width\": out_img.shape[2],\n",
    "                 \"transform\": out_transform})\n",
    "\n",
    "with rasterio.open(ghs_clip, \"w\", **out_meta) as dest:\n",
    "    dest.write(out_img)"
   ]
  },
  {
   "cell_type": "markdown",
   "metadata": {},
   "source": [
    "# 3. Vectorize\n",
    "\n",
    "https://gis.stackexchange.com/questions/187877/how-to-polygonize-raster-to-shapely-polygons"
   ]
  },
  {
   "cell_type": "code",
   "execution_count": null,
   "metadata": {},
   "outputs": [],
   "source": [
    "with rasterio.open(ghs_clip) as src:\n",
    "    image = src.read(1) # first band\n",
    "    results = (\n",
    "    {'properties': {'raster_val': v}, 'geometry': s}\n",
    "    for i, (s, v) \n",
    "    in enumerate(\n",
    "        shapes(image, mask=None, transform=src.transform)))\n",
    "        \n",
    "geoms = list(results)\n",
    "ghs_poly  = gpd.GeoDataFrame.from_features(geoms)\n",
    "ghs_poly.crs = ghs.crs.data"
   ]
  },
  {
   "cell_type": "markdown",
   "metadata": {},
   "source": [
    "# 4. Filter on population and size, buffer and dissolve"
   ]
  },
  {
   "cell_type": "code",
   "execution_count": null,
   "metadata": {},
   "outputs": [],
   "source": [
    "max_block_size = 100000\n",
    "min_block_pop = 50\n",
    "buffer_amount = 150\n",
    "\n",
    "# filter to ignore blocks with basically no people\n",
    "w\n",
    "ghs_poly = ghs_poly[ghs_poly['area_m2'] < max_block_size] # remove blocks that are too big (basically artifacts)\n",
    "ghs_poly = ghs_poly[ghs_poly['raster_val'] > min_block_pop] # remove blocks with 30 or less people\n",
    "\n",
    "# buffer outwards so that nearby blocks will overlap\n",
    "ghs_poly['geometry'] = ghs_poly.geometry.buffer(buffer_amount)\n",
    "\n",
    "# and dissolve the thousands of blocks into a single shapefile (with no attributes!)\n",
    "ghs_poly['same'] = 1\n",
    "ghs_poly = ghs_poly.dissolve(by='same')"
   ]
  },
  {
   "cell_type": "markdown",
   "metadata": {},
   "source": [
    "# 7. To singleparts\n",
    "\n",
    "https://gis.stackexchange.com/a/271735"
   ]
  },
  {
   "cell_type": "code",
   "execution_count": null,
   "metadata": {},
   "outputs": [],
   "source": [
    "# To get our attributes, we convert the dissolves polygon into singleparts\n",
    "# This means each contiguous bubble becomes its own polygon and can store its own attributes\n",
    "\n",
    "ghs_poly = ghs_poly.explode()\n",
    "ghs_poly = ghs_poly.reset_index()\n",
    "ghs_poly['geometry'] = ghs_poly[0]\n",
    "ghs_poly = ghs_poly.drop(columns=['level_0', 'level_1', 0]) # shapefile doesn't like integer column name\n",
    "ghs_poly = gpd.GeoDataFrame(ghs_poly)\n",
    "ghs_poly.crs = ghs.crs.data"
   ]
  },
  {
   "cell_type": "code",
   "execution_count": null,
   "metadata": {},
   "outputs": [],
   "source": [
    "ghs_poly.to_file('GHS_vec_fil_buf_diss_exp.shp')"
   ]
  },
  {
   "cell_type": "markdown",
   "metadata": {},
   "source": [
    "# 8. Raster zonal statistics\n",
    "\n",
    "https://automating-gis-processes.github.io/CSC18/lessons/L6/zonal-statistics.html"
   ]
  },
  {
   "cell_type": "code",
   "execution_count": null,
   "metadata": {
    "scrolled": false
   },
   "outputs": [],
   "source": [
    "# But we still need to get the population data back, so we join it with the original raster data\n",
    "# We take the sum of all population that lies underneath the polygon\n",
    "pop_sums = zonal_stats('GHS_vec_fil_buf_diss_exp.shp', ghs_in, stats='sum')\n",
    "pop_sums = [x['sum'] for x in pop_sums]\n",
    "ghs_poly['pop_sum'] = pop_sums\n",
    "\n",
    "# And then add the polygon's area back to its attributes\n",
    "ghs_poly[\"area_m2\"] = ghs_poly['geometry'].area"
   ]
  },
  {
   "cell_type": "markdown",
   "metadata": {},
   "source": [
    "# 10. Buffer and join with grid to see if 'connected'"
   ]
  },
  {
   "cell_type": "code",
   "execution_count": null,
   "metadata": {},
   "outputs": [],
   "source": [
    "# read in the relevant MV grid lines file\n",
    "grid = gpd.read_file(grid_in)\n",
    "grid = grid.to_crs(crs=ghs_poly.crs)"
   ]
  },
  {
   "cell_type": "code",
   "execution_count": null,
   "metadata": {},
   "outputs": [],
   "source": [
    "# We buffer out to find overlaps with the nearest grid lines\n",
    "grid_distance_for_connected = 1000  # this is the maximum distance to consider a cluster grid connected\n",
    "\n",
    "ghs_poly['index'] = ghs_poly.index\n",
    "ghs_poly_bigbuffer = ghs_poly.copy()\n",
    "ghs_poly_bigbuffer['geometry'] = ghs_poly_bigbuffer.geometry.buffer(grid_distance_for_connected)"
   ]
  },
  {
   "cell_type": "code",
   "execution_count": null,
   "metadata": {
    "scrolled": true
   },
   "outputs": [],
   "source": [
    "ghs_poly_joined = gpd.sjoin(ghs_poly_bigbuffer, grid, how=\"left\", op='intersects')\n",
    "\n",
    "# Extract only the un-joined rows (not near grid) and mark them as not grid connected\n",
    "ghs_poly_joined = ghs_poly_joined.fillna({'index_right': -999})\n",
    "ghs_poly_joined = ghs_poly_joined[ghs_poly_joined['index_right'] == -999]\n",
    "ghs_poly_joined['connected'] = 0\n",
    "ghs_poly_joined = ghs_poly_joined[['index', 'connected']]\n",
    "\n",
    "# Join them back into the original (un_bigbuffered) clusters and mark the remainder as connected\n",
    "ghs_poly_joined = ghs_poly.merge(ghs_poly_joined, how='left', on='index')\n",
    "ghs_poly_joined.loc[ghs_poly_joined['connected'] != 0, 'connected'] = 1\n",
    "\n",
    "# convert all to int\n",
    "ghs_poly_joined['connected'] = ghs_poly_joined['connected'].astype(int)\n",
    "ghs_poly_joined['pop_sum'] = ghs_poly_joined['pop_sum'].astype(int)\n",
    "ghs_poly_joined['area_m2'] = ghs_poly_joined['area_m2'].astype(int)\n",
    "\n",
    "ghs_poly_joined = ghs_poly_joined.drop(columns=['index'])"
   ]
  },
  {
   "cell_type": "code",
   "execution_count": null,
   "metadata": {},
   "outputs": [],
   "source": [
    "ghs_poly_joined.to_file('GHS_clusters_joined.shp')"
   ]
  }
 ],
 "metadata": {
  "kernelspec": {
   "display_name": "Python 3",
   "language": "python",
   "name": "python3"
  },
  "language_info": {
   "codemirror_mode": {
    "name": "ipython",
    "version": 3
   },
   "file_extension": ".py",
   "mimetype": "text/x-python",
   "name": "python",
   "nbconvert_exporter": "python",
   "pygments_lexer": "ipython3",
   "version": "3.6.4"
  }
 },
 "nbformat": 4,
 "nbformat_minor": 2
}
