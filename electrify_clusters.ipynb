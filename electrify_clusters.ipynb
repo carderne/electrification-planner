{
 "cells": [
  {
   "cell_type": "markdown",
   "metadata": {},
   "source": [
    "# Electrify_Clusters"
   ]
  },
  {
   "cell_type": "markdown",
   "metadata": {},
   "source": [
    "### Enter all input data here"
   ]
  },
  {
   "cell_type": "code",
   "execution_count": 2,
   "metadata": {},
   "outputs": [],
   "source": [
    "input_file = \"in_files/GHS_clusters_joined.shp\"  # must be polygons with attributes pop_sum, area_m2, connected\n",
    "\n",
    "minimum_pop = 0 # exclude any population below this"
   ]
  },
  {
   "cell_type": "markdown",
   "metadata": {},
   "source": [
    "### Then we do all the necessary Python imports"
   ]
  },
  {
   "cell_type": "code",
   "execution_count": 3,
   "metadata": {},
   "outputs": [],
   "source": [
    "%matplotlib inline\n",
    "import time\n",
    "from math import sqrt\n",
    "import numpy as np\n",
    "import pandas as pd\n",
    "import geopandas as gpd\n",
    "from shapely.geometry import LineString\n",
    "from astroML.clustering import HierarchicalClustering, get_graph_segments"
   ]
  },
  {
   "cell_type": "code",
   "execution_count": 4,
   "metadata": {},
   "outputs": [],
   "source": [
    "start = time.time()"
   ]
  },
  {
   "cell_type": "markdown",
   "metadata": {},
   "source": [
    "### Read in the clusters file, convert to desired CRS (ostensibly better for distances) and convert to points, filter on population along the way"
   ]
  },
  {
   "cell_type": "code",
   "execution_count": 5,
   "metadata": {},
   "outputs": [],
   "source": [
    "clusters = gpd.read_file(input_file)\n",
    "# This is the Africa Albers Equal Area Conic EPSG: 102022\n",
    "epsg102022 = '+proj=aea +lat_1=20 +lat_2=-23 +lat_0=0 +lon_0=25 +x_0=0 +y_0=0 +ellps=WGS84 +datum=WGS84 +units=m +no_defs'\n",
    "clusters = clusters.to_crs(epsg102022)\n",
    "\n",
    "clusters = clusters.sort_values('pop_sum', ascending=False)  # so that biggest (and thus connected) city gets index=0\n",
    "clusters = clusters.reset_index().drop(columns=['index'])\n",
    "clusters = clusters.reset_index()  # this adds the index as a column again, properly ordered\n",
    "\n",
    "clusters_points = clusters.copy()\n",
    "clusters_points = clusters_points.loc[clusters_points['pop_sum'] > minimum_pop]\n",
    "clusters_points.geometry = clusters_points['geometry'].centroid\n",
    "clusters_points['X'] = clusters_points.geometry.x\n",
    "clusters_points['Y'] = clusters_points.geometry.y"
   ]
  },
  {
   "cell_type": "markdown",
   "metadata": {},
   "source": [
    "### We then take all the clusters and calculate the optimum network that connects them all together. The ML model returns T_x and T_y containing the start and end points of each new arc created"
   ]
  },
  {
   "cell_type": "code",
   "execution_count": 6,
   "metadata": {
    "scrolled": false
   },
   "outputs": [],
   "source": [
    "df = pd.DataFrame(clusters_points)\n",
    "points = df[['X', 'Y']].as_matrix()\n",
    "\n",
    "# min_cluster set like this to group everything into one network\n",
    "# could actually exlpore with lower settings?\n",
    "min_cluster = len(df.index) - 1\n",
    "model = HierarchicalClustering(n_neighbors=min_cluster, edge_cutoff=0.9, min_cluster_size=min_cluster)\n",
    "model.fit(points)\n",
    "T_x, T_y = get_graph_segments(model.X_train_, model.full_tree_)"
   ]
  },
  {
   "cell_type": "markdown",
   "metadata": {},
   "source": [
    "### This point and line data is then copied into two arrays, called *nodes* and *network*, containing the clusters and lines, respectively. Each element represents a single cluster or joining arc, and has data within describing the coordinates and more."
   ]
  },
  {
   "cell_type": "markdown",
   "metadata": {},
   "source": [
    "**Structure for nodes**  \n",
    "0   index  \n",
    "1   x  \n",
    "2   y  \n",
    "3   area_m2  \n",
    "4   pop_sum  \n",
    "5   connected  \n",
    "6   new_conn  \n",
    "7   off_grid_cost  \n",
    "8   [connected arc indices]  \n",
    "\n",
    "**Structure for network**  \n",
    "0   index  \n",
    "1   xs  \n",
    "2   ys  \n",
    "3   xe  \n",
    "4   ye  \n",
    "5   node index first point  \n",
    "6   node index last point  \n",
    "7   existing  \n",
    "8   arc length  \n",
    "9   whether enabled"
   ]
  },
  {
   "cell_type": "code",
   "execution_count": 7,
   "metadata": {},
   "outputs": [],
   "source": [
    "df['new_conn'] = df['connected']\n",
    "df['off_grid_cost'] = 0\n",
    "nodes = df[['X', 'Y', 'area_m2', 'pop_sum', 'connected', 'new_conn', 'off_grid_cost']].reset_index().values.astype(int).tolist()\n",
    "\n",
    "# add an empty list at position 8 for connected arc indices\n",
    "for node in nodes:\n",
    "    node.append([])\n",
    "\n",
    "counter = 0\n",
    "network = []\n",
    "for xs, ys, xe, ye in zip(T_x[0], T_y[0], T_x[1], T_y[1]):\n",
    "    xs = int(xs)\n",
    "    ys = int(ys)\n",
    "    xe = int(xe)\n",
    "    ye = int(ye)\n",
    "    length = int(sqrt((xe - xs)**2 + (ye - ys)**2))\n",
    "    network.append([counter, xs, ys, xe, ye, None, None, 1, length, 1])\n",
    "    counter += 1"
   ]
  },
  {
   "cell_type": "markdown",
   "metadata": {},
   "source": [
    "### Then we need to tell each arc which nodes it is connected to, and likewise for each node\n",
    "Each arc connects two nodes, each node can have 1+ arcs connected to it"
   ]
  },
  {
   "cell_type": "code",
   "execution_count": 8,
   "metadata": {},
   "outputs": [],
   "source": [
    "def connect_network(nodes, network, index):\n",
    "    cur_node = nodes[index]\n",
    "    for arc in network:\n",
    "        found = 0\n",
    "        if arc[5] == None and arc[6] == None:  # if this arc has no connected nodes\n",
    "            if (arc[1] == cur_node[1] and arc[2] == cur_node[2]):  # if the xs and ys match a node\n",
    "                found = 3  # point towards position 3 (xe) for the next node\n",
    "            if (arc[3] == cur_node[1] and arc[4] == cur_node[2]):  # if the xe and ye match a node\n",
    "                found = 1  # point towards position 1 (xs) for the next node\n",
    "\n",
    "            if found:\n",
    "                arc[5] = cur_node[0] # tell this arc that this node is its starting point\n",
    "            \n",
    "                for node in nodes:\n",
    "                    if node[0] != cur_node[0]:  # make sure we look at hte other end of the arc\n",
    "                        if node[1] == arc[found] and node[2] == arc[found+1]:\n",
    "                            arc[6] = node[0] # tell this arc that this node is its ending point                  \n",
    "                            nodes, network = connect_network(nodes, network, node[0]) # and investigate downstream\n",
    "                            break\n",
    "    \n",
    "    return nodes, network\n",
    "\n",
    "nodes, network = connect_network(nodes, network, 0)\n",
    "\n",
    "# for every node, add references to every arc that connects to it\n",
    "for arc in network:\n",
    "    nodes[arc[5]][8].append(arc[0])\n",
    "    nodes[arc[6]][8].append(arc[0])\n",
    "    \n",
    "# set which arcs don't already exist (and the remainder do!)\n",
    "for node in nodes:\n",
    "    if node[5] == 0:\n",
    "        connected_arcs = [network[arc_index] for arc_index in node[8]]\n",
    "        for arc in connected_arcs:\n",
    "            arc[7] = 0\n",
    "            arc[9] = 0 "
   ]
  },
  {
   "cell_type": "markdown",
   "metadata": {},
   "source": [
    "### First calcaulte the off-grid cost for each unconnected settlement"
   ]
  },
  {
   "cell_type": "code",
   "execution_count": 9,
   "metadata": {},
   "outputs": [],
   "source": [
    "# off-grid costs\n",
    "demand_per_person_kwh_month = 2 # 6kWh/month = MTF Tier 2\n",
    "demand_per_person_kw_peak = demand_per_person_kwh_month / (4*30)  # 130 4hours/day*30days/month based on MTF numbers, should use a real demand curve\n",
    "mg_gen_cost_per_kw = 7000\n",
    "mg_cost_per_m2 = 2\n",
    "\n",
    "for node in nodes:\n",
    "    if node[5] == 0:\n",
    "        node[7] = node[4]*demand_per_person_kw_peak*mg_gen_cost_per_kw + node[3]*mg_cost_per_m2\n",
    "\n",
    "# grid costs\n",
    "cost_wire_per_m = 39\n",
    "grid_cost_per_m2 = 2"
   ]
  },
  {
   "cell_type": "markdown",
   "metadata": {},
   "source": [
    "### Then we're ready to calculate the optimum grid extension.\n",
    "This is done by expanding out from each already connected node, finding the optimum connection of nearby nodes. This is then compared to the off-grid cost and if better, these nodes are marked as connected. Then the loop continues until no new connections are found."
   ]
  },
  {
   "cell_type": "code",
   "execution_count": 10,
   "metadata": {},
   "outputs": [],
   "source": [
    "# This function recurses through the network, dragging a current c_ values along with it.\n",
    "# These aren't returned, so are left untouched by aborted side-branch explorations.\n",
    "# The best b_ values are returned, and are updated whenever a better configuration is found.\n",
    "# Thus these will remmber the best solution including all side meanders.\n",
    "\n",
    "def find_best(nodes, network, index, prev_arc, b_pop, b_length, b_nodes, b_arcs, c_pop, c_length, c_nodes, c_arcs):\n",
    "    if nodes[index][6] == 0:  # don't do anything with already connected nodes\n",
    "        \n",
    "        \n",
    "        c_pop += nodes[index][4]\n",
    "        c_length += network[prev_arc][8]\n",
    "        c_nodes = c_nodes[:] + [index]\n",
    "        c_arcs = c_arcs[:] + [prev_arc]\n",
    "              \n",
    "        if c_pop/c_length > b_pop/b_length:\n",
    "            b_pop = c_pop\n",
    "            b_length = c_length\n",
    "            b_nodes[:] = c_nodes[:]\n",
    "            b_arcs[:] = c_arcs[:]\n",
    "    \n",
    "        connected_arcs = [network[arc_index] for arc_index in nodes[index][8]]\n",
    "        for arc in connected_arcs:\n",
    "            if arc[9] == 0 and arc[0] != prev_arc:\n",
    "\n",
    "                goto = 6 if arc[5] == index else 5  # make sure we look at the other end of the arc\n",
    "                nodes, network, b_pop, b_length, best_nodes, best_arcs = find_best(\n",
    "                    nodes, network, arc[goto], arc[0], b_pop, b_length, b_nodes, b_arcs, c_pop, c_length, c_nodes, c_arcs)\n",
    "                \n",
    "    return nodes, network, b_pop, b_length, b_nodes, b_arcs"
   ]
  },
  {
   "cell_type": "code",
   "execution_count": 11,
   "metadata": {},
   "outputs": [],
   "source": [
    "while True:  # keep looping until no further connections are added\n",
    "    to_be_connected = []\n",
    "    \n",
    "    for node in nodes:\n",
    "        if node[6] == 1:  # only start searches from currently connected nodes\n",
    "            \n",
    "            connected_arcs = [network[arc_index] for arc_index in node[8]]\n",
    "            for arc in connected_arcs:\n",
    "                if arc[9] == 0:\n",
    "                    goto = 6 if arc[5] == node[0] else 5\n",
    "                    \n",
    "                    # function call a bit of a mess with all the c_ and b_ values\n",
    "                    nodes, network, b_length, b_pop, b_nodes, b_arcs = find_best(\n",
    "                        nodes, network, arc[goto], arc[0], 0, 1e-9, [], [], 0, 1e-9, [], [])                \n",
    "\n",
    "                    # calculate the mg and grid costs of the resultant configuration\n",
    "                    best_nodes = [nodes[i] for i in b_nodes]\n",
    "                    best_arcs = [network[i] for i in b_arcs]\n",
    "                    mg_cost = sum([node[7] for node in best_nodes])\n",
    "                    grid_cost = (cost_wire_per_m * sum(arc[8] for arc in best_arcs) + \n",
    "                                 grid_cost_per_m2 * sum([node[3] for node in best_nodes]))\n",
    "\n",
    "                    if grid_cost < mg_cost:\n",
    "                        # check if any nodes are already in to_be_connected\n",
    "                        add = True\n",
    "                        for index, item in enumerate(to_be_connected):\n",
    "                            if set(b_nodes).intersection(item[1]):\n",
    "                                if b_pop/b_length < item[0]:\n",
    "                                    del to_be_connected[index]\n",
    "                                else:\n",
    "                                    add = False  # if the existing one is better, we don't add the new one\n",
    "                                break\n",
    "\n",
    "                        if add:\n",
    "                            to_be_connected.append((b_pop/b_length, b_nodes, b_arcs))\n",
    "        \n",
    "    # mark all to_be_connected as actually connected\n",
    "    if len(to_be_connected) >= 1:\n",
    "        for item in to_be_connected:\n",
    "            for node in item[1]:\n",
    "                nodes[node][6] = 1\n",
    "            for arc in item[2]:\n",
    "                network[arc][9] = 1\n",
    "    \n",
    "    else:\n",
    "        break  # exit the loop once nothing is added"
   ]
  },
  {
   "cell_type": "markdown",
   "metadata": {},
   "source": [
    "### And then do a join to get the results back into a polygon shapefile"
   ]
  },
  {
   "cell_type": "code",
   "execution_count": 12,
   "metadata": {
    "scrolled": false
   },
   "outputs": [],
   "source": [
    "# prepare nodes and join with original clusters gdf\n",
    "nodes_df = pd.DataFrame(columns=['index', 'X', 'Y', 'area_m2', 'pop_sum', 'connected', 'new_conn',\n",
    "                                  'og_cost', 'arcs'], data=nodes)\n",
    "nodes_df = nodes_df[['index', 'new_conn', 'og_cost']]\n",
    "clusters_joined = clusters.merge(nodes_df, how='left', on='index')\n",
    "\n",
    "# do the same for the network array\n",
    "network_df = pd.DataFrame(columns=['index', 'xs', 'ys', 'xe', 'ye', 'node_start', 'node_end',\n",
    "                                   'existing', 'length', 'enabled'], data=network)\n",
    "network_geometry = [LineString([(arc[1], arc[2]), (arc[3], arc[4])]) for arc in network]\n",
    "network_gdf = gpd.GeoDataFrame(network_df, crs=clusters.crs, geometry=network_geometry)"
   ]
  },
  {
   "cell_type": "code",
   "execution_count": 13,
   "metadata": {
    "scrolled": true
   },
   "outputs": [],
   "source": [
    "clusters_joined.to_file('GHS_calc_clusters.shp')\n",
    "network_gdf.to_file('GHS_calc_arcs.shp')"
   ]
  },
  {
   "cell_type": "markdown",
   "metadata": {},
   "source": [
    "### And display some summary results"
   ]
  },
  {
   "cell_type": "code",
   "execution_count": 25,
   "metadata": {},
   "outputs": [
    {
     "name": "stdout",
     "output_type": "stream",
     "text": [
      "3882 connected\n",
      "2220 off-grid\n",
      "3883 lines\n",
      "\n",
      "$8,768,671,181\n"
     ]
    }
   ],
   "source": [
    "new_conns = clusters_joined.loc[clusters_joined['new_conn'] == 1].loc[clusters_joined['connected'] == 0]\n",
    "og = clusters_joined.loc[clusters_joined['new_conn'] == 0]\n",
    "arcs = network_df.loc[network_df['existing'] == 0].loc[network_df['enabled'] == 1]\n",
    "cost = og['og_cost'].sum() + cost_wire_per_m * arcs['length'].sum() + grid_cost_per_m2 * new_conns['area_m2'].sum()\n",
    "\n",
    "print(f'{len(new_conns)} connected')\n",
    "print(f'{len(og)} off-grid')\n",
    "print(f'{len(arcs)} lines')\n",
    "print()\n",
    "print(f'${cost:,.0f}')"
   ]
  },
  {
   "cell_type": "code",
   "execution_count": 15,
   "metadata": {},
   "outputs": [
    {
     "data": {
      "text/plain": [
       "'It took 00h 01m 02s'"
      ]
     },
     "execution_count": 15,
     "metadata": {},
     "output_type": "execute_result"
    }
   ],
   "source": [
    "time.strftime('It took %Hh %Mm %Ss', time.gmtime(time.time() - start))"
   ]
  },
  {
   "cell_type": "code",
   "execution_count": null,
   "metadata": {},
   "outputs": [],
   "source": []
  }
 ],
 "metadata": {
  "kernelspec": {
   "display_name": "Python 3",
   "language": "python",
   "name": "python3"
  },
  "language_info": {
   "codemirror_mode": {
    "name": "ipython",
    "version": 3
   },
   "file_extension": ".py",
   "mimetype": "text/x-python",
   "name": "python",
   "nbconvert_exporter": "python",
   "pygments_lexer": "ipython3",
   "version": "3.6.4"
  }
 },
 "nbformat": 4,
 "nbformat_minor": 2
}
